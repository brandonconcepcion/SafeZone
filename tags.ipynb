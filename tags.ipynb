{
 "cells": [
  {
   "cell_type": "code",
   "execution_count": 11,
   "metadata": {},
   "outputs": [],
   "source": [
    "import pandas as pd\n",
    "import seaborn as sns\n",
    "import numpy as np"
   ]
  },
  {
   "cell_type": "code",
   "execution_count": 12,
   "metadata": {},
   "outputs": [],
   "source": [
    "df = pd.read_csv(\"data/acled.csv\")"
   ]
  },
  {
   "cell_type": "code",
   "execution_count": 48,
   "metadata": {},
   "outputs": [
    {
     "data": {
      "text/plain": [
       "tags\n",
       "crowd size=no report                               675702\n",
       "crowd size=hundreds                                 26977\n",
       "crowd size=dozens                                   23241\n",
       "crowd size=large                                    12377\n",
       "local administrators                                12119\n",
       "                                                    ...  \n",
       "counter-demonstration; crowd size=at least 230          1\n",
       "counter-demonstration; crowd size=about 127-132         1\n",
       "crowd size=between 1,600 and 1,640                      1\n",
       "crowd size=at least 2,100                               1\n",
       "crowd size=at least 35; sexual violence                 1\n",
       "Name: count, Length: 13906, dtype: int64"
      ]
     },
     "execution_count": 48,
     "metadata": {},
     "output_type": "execute_result"
    }
   ],
   "source": [
    "#df.columns\n",
    "df.tags.value_counts()\n",
    "#df.admin1.value_counts()\n",
    "#df.admin3.value_counts()"
   ]
  },
  {
   "cell_type": "code",
   "execution_count": 54,
   "metadata": {},
   "outputs": [
    {
     "data": {
      "text/plain": [
       "crowdsize\n",
       "crowd size=modest group                 1\n",
       "crowd size=nearly 40000                 1\n",
       "crowd size=approximately 12-15          1\n",
       "crowd size=about 20-60                  1\n",
       "crowd size=approximately 56 drivers     1\n",
       "                                       ..\n",
       "crowd size=between 16,000 and 50,000    1\n",
       "crowd size=between 7,200 and 15,000     1\n",
       "crowd size=between 4,900 and 8,000      1\n",
       "crowd size=between 25,000 and 55,000    1\n",
       "crowd size=100000                       1\n",
       "Name: count, Length: 7529, dtype: int64"
      ]
     },
     "execution_count": 54,
     "metadata": {},
     "output_type": "execute_result"
    }
   ],
   "source": [
    "\n",
    "##crowdsize\n",
    "df[\"crowdsize\"] = df['tags'].str.replace(r'(?i)^.*crowd size', 'crowd size', regex=True)\n",
    "df[\"crowdsize\"] = df[\"crowdsize\"].str.replace(r';.*', '', regex=True)\n",
    "value_counts_crowdsize = df.crowdsize.value_counts()\n",
    "ones_count_crowdsize = value_counts_crowdsize[value_counts_crowdsize == 1]\n",
    "ones_count_crowdsize"
   ]
  },
  {
   "cell_type": "code",
   "execution_count": 55,
   "metadata": {},
   "outputs": [
    {
     "data": {
      "text/plain": [
       "words before number\n",
       "around                        54227\n",
       "about                         36195\n",
       "more than                     15293\n",
       "at least                       8684\n",
       "over                           7149\n",
       "                              ...  \n",
       "a couple dozen to roughly         1\n",
       "approaching                       1\n",
       "tractors and some                 1\n",
       "betwen                            1\n",
       "several hundred to about          1\n",
       "Name: count, Length: 446, dtype: int64"
      ]
     },
     "execution_count": 55,
     "metadata": {},
     "output_type": "execute_result"
    }
   ],
   "source": [
    "##word before number \n",
    "pattern = r'([a-zA-Z\\s]+)(?=\\s*\\d)'\n",
    "df[\"words before number\"] = df[\"crowdsize\"].str.extract(pattern)\n",
    "df[\"words before number\"] = df[\"words before number\"].str.replace(r'^\\s+', '', regex=True)\n",
    "value_counts_wordsbeforenumber = df[\"words before number\"].value_counts()\n",
    "value_counts_wordsbeforenumber\n"
   ]
  },
  {
   "cell_type": "code",
   "execution_count": 56,
   "metadata": {},
   "outputs": [
    {
     "data": {
      "text/plain": [
       "keys\n",
       "crowd size=no report              3769\n",
       "counter-demonstration             2757\n",
       "armed                              786\n",
       "schools                            451\n",
       "local administrators               398\n",
       "                                  ... \n",
       "crowd size=around half a dozen       1\n",
       "crowd size=about 125                 1\n",
       "crowd size=over 60                   1\n",
       "crowd size=around 14,000             1\n",
       "crowd size=at least 35               1\n",
       "Name: count, Length: 463, dtype: int64"
      ]
     },
     "execution_count": 56,
     "metadata": {},
     "output_type": "execute_result"
    }
   ],
   "source": [
    "##key\n",
    "df[\"keys\"] = df[\"tags\"].str.extract(r'^(.*?)(?=;)')\n",
    "df[\"keys\"].value_counts()\n"
   ]
  },
  {
   "cell_type": "code",
   "execution_count": 58,
   "metadata": {},
   "outputs": [
    {
     "data": {
      "text/plain": [
       "values\n",
       "local administrators                                                              3616\n",
       "crowd size=no report                                                              1550\n",
       "sexual violence                                                                    527\n",
       "stop the steal                                                                     357\n",
       "women targeted: accused of witchcraft/sorcery                                      345\n",
       "                                                                                  ... \n",
       "crowd size=less than 100                                                             1\n",
       "crowd size=around 200; stop the steal                                                1\n",
       "crowd size=around three dozen                                                        1\n",
       "crowd size=nearly 56                                                                 1\n",
       "crowd size=12; women targeted: activists/human rights defenders/social leaders       1\n",
       "Name: count, Length: 1088, dtype: int64"
      ]
     },
     "execution_count": 58,
     "metadata": {},
     "output_type": "execute_result"
    }
   ],
   "source": [
    "##values\n",
    "df[\"values\"] = df['tags'].str.extract(r'(?<=;)(.*)')\n",
    "df[\"values\"].value_counts()\n"
   ]
  },
  {
   "cell_type": "code",
   "execution_count": null,
   "metadata": {},
   "outputs": [],
   "source": []
  },
  {
   "cell_type": "code",
   "execution_count": null,
   "metadata": {},
   "outputs": [],
   "source": []
  }
 ],
 "metadata": {
  "kernelspec": {
   "display_name": "datathon2024",
   "language": "python",
   "name": "python3"
  },
  "language_info": {
   "codemirror_mode": {
    "name": "ipython",
    "version": 3
   },
   "file_extension": ".py",
   "mimetype": "text/x-python",
   "name": "python",
   "nbconvert_exporter": "python",
   "pygments_lexer": "ipython3",
   "version": "3.11.9"
  }
 },
 "nbformat": 4,
 "nbformat_minor": 2
}
