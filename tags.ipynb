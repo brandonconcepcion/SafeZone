{
 "cells": [
  {
   "cell_type": "code",
   "execution_count": 11,
   "metadata": {},
   "outputs": [],
   "source": [
    "import pandas as pd\n",
    "import seaborn as sns\n",
    "import numpy as np"
   ]
  },
  {
   "cell_type": "code",
   "execution_count": 12,
   "metadata": {},
   "outputs": [],
   "source": [
    "df = pd.read_csv(\"data/acled.csv\")"
   ]
  },
  {
   "cell_type": "code",
   "execution_count": 48,
   "metadata": {},
   "outputs": [
    {
     "data": {
      "text/plain": [
       "tags\n",
       "crowd size=no report                               675702\n",
       "crowd size=hundreds                                 26977\n",
       "crowd size=dozens                                   23241\n",
       "crowd size=large                                    12377\n",
       "local administrators                                12119\n",
       "                                                    ...  \n",
       "counter-demonstration; crowd size=at least 230          1\n",
       "counter-demonstration; crowd size=about 127-132         1\n",
       "crowd size=between 1,600 and 1,640                      1\n",
       "crowd size=at least 2,100                               1\n",
       "crowd size=at least 35; sexual violence                 1\n",
       "Name: count, Length: 13906, dtype: int64"
      ]
     },
     "execution_count": 48,
     "metadata": {},
     "output_type": "execute_result"
    }
   ],
   "source": [
    "#df.columns\n",
    "df.tags.value_counts()\n",
    "#df.admin1.value_counts()\n",
    "#df.admin3.value_counts()"
   ]
  },
  {
   "cell_type": "code",
   "execution_count": 59,
   "metadata": {},
   "outputs": [
    {
     "data": {
      "text/plain": [
       "keys\n",
       "crowd size                                                         5405\n",
       "counter-demonstration                                              2757\n",
       "armed                                                               786\n",
       "schools                                                             451\n",
       "local administrators                                                398\n",
       "count every vote                                                    161\n",
       "armed presence                                                      154\n",
       "women targeted: girls                                               136\n",
       "car ramming                                                         117\n",
       "sexual violence                                                      54\n",
       "women targeted: activists/human rights defenders/social leaders      37\n",
       "women targeted: political party supporters                           14\n",
       "women targeted: candidates for office                                 7\n",
       "women targeted: accused of witchcraft/sorcery                         7\n",
       "women targeted: government officials                                  4\n",
       "women targeted: politicians                                           3\n",
       "Name: count, dtype: int64"
      ]
     },
     "execution_count": 59,
     "metadata": {},
     "output_type": "execute_result"
    }
   ],
   "source": [
    "##key\n",
    "df[\"keys\"] = df[\"tags\"].str.extract(r'^(.*?)(?=;)')\n",
    "df[\"keys\"] = df[\"keys\"].str.replace(r'=.*$', '', regex=True)\n",
    "df[\"keys\"].value_counts()\n"
   ]
  }
 ],
 "metadata": {
  "kernelspec": {
   "display_name": "datathon2024",
   "language": "python",
   "name": "python3"
  },
  "language_info": {
   "codemirror_mode": {
    "name": "ipython",
    "version": 3
   },
   "file_extension": ".py",
   "mimetype": "text/x-python",
   "name": "python",
   "nbconvert_exporter": "python",
   "pygments_lexer": "ipython3",
   "version": "3.11.9"
  }
 },
 "nbformat": 4,
 "nbformat_minor": 2
}
