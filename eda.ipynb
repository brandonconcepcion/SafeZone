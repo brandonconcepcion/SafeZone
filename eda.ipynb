{
 "cells": [
  {
   "cell_type": "code",
   "execution_count": 16,
   "metadata": {},
   "outputs": [],
   "source": [
    "import pandas as pd\n",
    "import seaborn as sns\n",
    "import numpy as np"
   ]
  },
  {
   "cell_type": "code",
   "execution_count": 30,
   "metadata": {},
   "outputs": [],
   "source": [
    "df = pd.read_csv('acled_data.csv').query('region != \"Antarctica\"')"
   ]
  },
  {
   "cell_type": "code",
   "execution_count": 34,
   "metadata": {},
   "outputs": [
    {
     "name": "stderr",
     "output_type": "stream",
     "text": [
      "/Users/jonathanferrari/Library/Python/3.13/lib/python/site-packages/numpy/_core/fromnumeric.py:57: FutureWarning: 'DataFrame.swapaxes' is deprecated and will be removed in a future version. Please use 'DataFrame.transpose' instead.\n",
      "  return bound(*args, **kwds)\n"
     ]
    },
    {
     "name": "stdout",
     "output_type": "stream",
     "text": [
      "Wrote data/data_0.csv\n",
      "Wrote data/data_1.csv\n",
      "Wrote data/data_2.csv\n",
      "Wrote data/data_3.csv\n",
      "Wrote data/data_4.csv\n",
      "Wrote data/data_5.csv\n",
      "Wrote data/data_6.csv\n",
      "Wrote data/data_7.csv\n",
      "Wrote data/data_8.csv\n",
      "Wrote data/data_9.csv\n",
      "Wrote data/data_10.csv\n",
      "Wrote data/data_11.csv\n",
      "Wrote data/data_12.csv\n",
      "Wrote data/data_13.csv\n",
      "Wrote data/data_14.csv\n",
      "Wrote data/data_15.csv\n",
      "Wrote data/data_16.csv\n",
      "Wrote data/data_17.csv\n",
      "Wrote data/data_18.csv\n",
      "Wrote data/data_19.csv\n",
      "Wrote data/data_20.csv\n",
      "Wrote data/data_21.csv\n",
      "Wrote data/data_22.csv\n",
      "Wrote data/data_23.csv\n",
      "Wrote data/data_24.csv\n",
      "Wrote data/data_25.csv\n",
      "Wrote data/data_26.csv\n",
      "Wrote data/data_27.csv\n",
      "Wrote data/data_28.csv\n",
      "Wrote data/data_29.csv\n",
      "Wrote data/data_30.csv\n",
      "Wrote data/data_31.csv\n",
      "Wrote data/data_32.csv\n",
      "Wrote data/data_33.csv\n",
      "Wrote data/data_34.csv\n",
      "Wrote data/data_35.csv\n",
      "Wrote data/data_36.csv\n",
      "Wrote data/data_37.csv\n",
      "Wrote data/data_38.csv\n",
      "Wrote data/data_39.csv\n",
      "Wrote data/data_40.csv\n",
      "Wrote data/data_41.csv\n",
      "Wrote data/data_42.csv\n",
      "Wrote data/data_43.csv\n",
      "Wrote data/data_44.csv\n",
      "Wrote data/data_45.csv\n",
      "Wrote data/data_46.csv\n",
      "Wrote data/data_47.csv\n",
      "Wrote data/data_48.csv\n",
      "Wrote data/data_49.csv\n",
      "Wrote data/data_50.csv\n",
      "Wrote data/data_51.csv\n",
      "Wrote data/data_52.csv\n",
      "Wrote data/data_53.csv\n",
      "Wrote data/data_54.csv\n",
      "Wrote data/data_55.csv\n",
      "Wrote data/data_56.csv\n",
      "Wrote data/data_57.csv\n"
     ]
    }
   ],
   "source": [
    "# split the dataset into multiple csvs based on index. \n",
    "# write 100,000 rows per csv and dont write the index\n",
    "# save to the 'data' folder, and name the files 'data_1.csv', 'data_2.csv', etc.\n",
    "\n",
    "for i, chunk in enumerate(np.array_split(df, len(df) // 40_000)):\n",
    "    chunk.to_csv(f'data/data_{i}.csv', index=False)\n",
    "    print(f'Wrote data/data_{i}.csv')"
   ]
  },
  {
   "cell_type": "code",
   "execution_count": null,
   "metadata": {},
   "outputs": [
    {
     "data": {
      "text/html": [
       "<div>\n",
       "<style scoped>\n",
       "    .dataframe tbody tr th:only-of-type {\n",
       "        vertical-align: middle;\n",
       "    }\n",
       "\n",
       "    .dataframe tbody tr th {\n",
       "        vertical-align: top;\n",
       "    }\n",
       "\n",
       "    .dataframe thead th {\n",
       "        text-align: right;\n",
       "    }\n",
       "</style>\n",
       "<table border=\"1\" class=\"dataframe\">\n",
       "  <thead>\n",
       "    <tr style=\"text-align: right;\">\n",
       "      <th></th>\n",
       "      <th>event_id_cnty</th>\n",
       "      <th>event_date</th>\n",
       "      <th>year</th>\n",
       "      <th>time_precision</th>\n",
       "      <th>disorder_type</th>\n",
       "      <th>event_type</th>\n",
       "      <th>sub_event_type</th>\n",
       "      <th>actor1</th>\n",
       "      <th>assoc_actor_1</th>\n",
       "      <th>inter1</th>\n",
       "      <th>...</th>\n",
       "      <th>location</th>\n",
       "      <th>latitude</th>\n",
       "      <th>longitude</th>\n",
       "      <th>geo_precision</th>\n",
       "      <th>source</th>\n",
       "      <th>source_scale</th>\n",
       "      <th>notes</th>\n",
       "      <th>fatalities</th>\n",
       "      <th>tags</th>\n",
       "      <th>timestamp</th>\n",
       "    </tr>\n",
       "  </thead>\n",
       "  <tbody>\n",
       "  </tbody>\n",
       "</table>\n",
       "<p>0 rows × 31 columns</p>\n",
       "</div>"
      ],
      "text/plain": [
       "Empty DataFrame\n",
       "Columns: [event_id_cnty, event_date, year, time_precision, disorder_type, event_type, sub_event_type, actor1, assoc_actor_1, inter1, actor2, assoc_actor_2, inter2, interaction, civilian_targeting, iso, region, country, admin1, admin2, admin3, location, latitude, longitude, geo_precision, source, source_scale, notes, fatalities, tags, timestamp]\n",
       "Index: []\n",
       "\n",
       "[0 rows x 31 columns]"
      ]
     },
     "execution_count": 32,
     "metadata": {},
     "output_type": "execute_result"
    }
   ],
   "source": []
  },
  {
   "cell_type": "code",
   "execution_count": null,
   "metadata": {},
   "outputs": [],
   "source": []
  }
 ],
 "metadata": {
  "kernelspec": {
   "display_name": "Python 3",
   "language": "python",
   "name": "python3"
  },
  "language_info": {
   "codemirror_mode": {
    "name": "ipython",
    "version": 3
   },
   "file_extension": ".py",
   "mimetype": "text/x-python",
   "name": "python",
   "nbconvert_exporter": "python",
   "pygments_lexer": "ipython3",
   "version": "3.13.0"
  }
 },
 "nbformat": 4,
 "nbformat_minor": 2
}
