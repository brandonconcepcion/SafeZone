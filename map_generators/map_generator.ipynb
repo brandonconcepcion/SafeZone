{
 "cells": [
  {
   "cell_type": "markdown",
   "metadata": {},
   "source": [
    "Generates an html map to visualize conflicts"
   ]
  },
  {
   "cell_type": "code",
   "execution_count": 5,
   "metadata": {},
   "outputs": [],
   "source": [
    "import folium\n",
    "import pandas as pd\n",
    "\n",
    "df = pd.read_csv(\"acled_data_10000.csv\")\n",
    "\n",
    "# Create a map centered at the first location\n",
    "map_center = [df['latitude'].mean(), df['longitude'].mean()]\n",
    "m = folium.Map(location=map_center, zoom_start=5)\n",
    "\n",
    "# Add markers to the map\n",
    "for _, row in df.iterrows():\n",
    "    folium.Marker(\n",
    "        location=[row['latitude'], row['longitude']],\n",
    "        popup=row['location']\n",
    "    ).add_to(m)\n",
    "\n",
    "# Display the map\n",
    "m.save(\"map.html\")"
   ]
  },
  {
   "cell_type": "code",
   "execution_count": null,
   "metadata": {},
   "outputs": [],
   "source": []
  }
 ],
 "metadata": {
  "kernelspec": {
   "display_name": "datathon",
   "language": "python",
   "name": "python3"
  },
  "language_info": {
   "codemirror_mode": {
    "name": "ipython",
    "version": 3
   },
   "file_extension": ".py",
   "mimetype": "text/x-python",
   "name": "python",
   "nbconvert_exporter": "python",
   "pygments_lexer": "ipython3",
   "version": "3.11.7"
  }
 },
 "nbformat": 4,
 "nbformat_minor": 2
}
