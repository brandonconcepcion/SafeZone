{
 "cells": [
  {
   "cell_type": "code",
   "execution_count": 7,
   "metadata": {},
   "outputs": [],
   "source": [
    "import pandas as pd\n",
    "from process import process\n",
    "import numpy as np"
   ]
  },
  {
   "cell_type": "code",
   "execution_count": 23,
   "metadata": {},
   "outputs": [],
   "source": [
    "df = pd.read_csv('acled_preprocessed_sl.csv')"
   ]
  },
  {
   "cell_type": "code",
   "execution_count": 24,
   "metadata": {},
   "outputs": [],
   "source": [
    "df = df[['future_fatalities', 'civilian_targeting', 'country', 'year']]\n",
    "# multiply futuer fatalities by 4 if civilian targeting is 1 and 1 if 0\n",
    "factor = np.array([4 if c > 0 else 1 for c in df['civilian_targeting']])\n",
    "df['doctor_danger'] = df['future_fatalities'] * factor\n",
    "df['danger'] = df['future_fatalities']\n",
    "df = df[['country', 'year', 'doctor_danger', 'danger']]"
   ]
  },
  {
   "cell_type": "code",
   "execution_count": 33,
   "metadata": {},
   "outputs": [],
   "source": [
    "# for doctor_danger make it 1 if less than 2, 2 if between 2 and 496 and 3 if more than 496\n",
    "def doc_danger_level(x):\n",
    "    if x < 2:\n",
    "        return 1\n",
    "    elif x < 496:\n",
    "        return 2\n",
    "    else:\n",
    "        return 3\n",
    "    \n",
    "def danger_level(x):\n",
    "    if x < 1:\n",
    "        return 1\n",
    "    elif x < 355:\n",
    "        return 2\n",
    "    else:\n",
    "        return 3\n",
    "df['doctor_danger'] = df['doctor_danger'].apply(danger_level)\n",
    "df['danger'] = df['danger'].apply(danger_level)"
   ]
  },
  {
   "cell_type": "code",
   "execution_count": 44,
   "metadata": {},
   "outputs": [],
   "source": [
    "df = df.groupby(['country', 'year']).mean().round().reset_index()\n",
    "df['doctor_danger'] = df['doctor_danger'].astype(int)\n",
    "df['danger'] = df['danger'].astype(int)\n",
    "df.to_csv('acled_danger.csv', index=False)"
   ]
  },
  {
   "cell_type": "code",
   "execution_count": null,
   "metadata": {},
   "outputs": [],
   "source": []
  }
 ],
 "metadata": {
  "kernelspec": {
   "display_name": "Python 3",
   "language": "python",
   "name": "python3"
  },
  "language_info": {
   "codemirror_mode": {
    "name": "ipython",
    "version": 3
   },
   "file_extension": ".py",
   "mimetype": "text/x-python",
   "name": "python",
   "nbconvert_exporter": "python",
   "pygments_lexer": "ipython3",
   "version": "3.12.7"
  }
 },
 "nbformat": 4,
 "nbformat_minor": 2
}
