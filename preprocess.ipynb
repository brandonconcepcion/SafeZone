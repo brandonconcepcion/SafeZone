{
 "cells": [
  {
   "cell_type": "markdown",
   "metadata": {},
   "source": [
    "All of our preprocessing work in one Notebook"
   ]
  },
  {
   "cell_type": "code",
   "execution_count": 3,
   "metadata": {},
   "outputs": [],
   "source": [
    "import pandas as pd\n",
    "import seaborn as sns\n",
    "import numpy as np\n",
    "from datetime import timedelta\n",
    "from tqdm import tqdm\n",
    "import re"
   ]
  },
  {
   "cell_type": "code",
   "execution_count": 4,
   "metadata": {},
   "outputs": [
    {
     "name": "stdout",
     "output_type": "stream",
     "text": [
      "Step 1: Converting event_date to datetime...\n",
      "Step 2: Sorting data by admin1 and event_date (descending)...\n",
      "Step 3: Applying rolling sum calculation by admin1...\n",
      "Total groups to process: 3307\n"
     ]
    },
    {
     "name": "stderr",
     "output_type": "stream",
     "text": [
      "Processing groups by admin1: 100%|██████████| 3307/3307 [00:01<00:00, 1665.22it/s]\n"
     ]
    },
    {
     "name": "stdout",
     "output_type": "stream",
     "text": [
      "Step 4: Concatenating results...\n",
      "Step 5: Replacing missing values with -1...\n",
      "Processing complete.\n"
     ]
    }
   ],
   "source": [
    "df = pd.read_csv('data/acled.csv')\n",
    "df['event_date'] = pd.to_datetime(df['event_date'])\n",
    "\n",
    "def add_fatalities_sum(data, timeframe_months):\n",
    "    # Ensure 'event_date' is a datetime object\n",
    "    print(\"Step 1: Converting event_date to datetime...\")\n",
    "    data['event_date'] = pd.to_datetime(data['event_date'])\n",
    "    \n",
    "    # Sort data by admin1 and event_date (descending, since we care about future events)\n",
    "    print(\"Step 2: Sorting data by admin1 and event_date (descending)...\")\n",
    "    data = data.sort_values(by=['admin1', 'event_date'], ascending=[True, False]).reset_index(drop=True)\n",
    "    \n",
    "    # Convert the timeframe in months to days for rolling\n",
    "    days_in_timeframe = timeframe_months * 30  # Approximate months as 30 days\n",
    "    \n",
    "    print(\"Step 3: Applying rolling sum calculation by admin1...\")\n",
    "    total_groups = data['admin1'].nunique()\n",
    "    print(f\"Total groups to process: {total_groups}\")\n",
    "    \n",
    "    # Group by admin1 and calculate fatalities sum with a rolling window\n",
    "    def calculate_rolling_sum_excluding_current(group):\n",
    "        group['fatalities'] = group['fatalities'].astype(int)\n",
    "        \n",
    "        # Shift fatalities to exclude the current row\n",
    "        group['shifted_fatalities'] = group['fatalities'].shift(-1)\n",
    "        \n",
    "        # Rolling sum on shifted fatalities\n",
    "        group['fatalities_sum'] = group.rolling(\n",
    "            on='event_date',\n",
    "            window=f'{days_in_timeframe}D',  # Time-based rolling\n",
    "            min_periods=1,  # Include rows with fewer matches\n",
    "        )['shifted_fatalities'].sum()\n",
    "        return group\n",
    "\n",
    "    # Apply group-wise rolling calculation with tqdm for progress display\n",
    "    results = []\n",
    "    for admin1, group in tqdm(data.groupby('admin1'), desc=\"Processing groups by admin1\"):\n",
    "        results.append(calculate_rolling_sum_excluding_current(group))\n",
    "    \n",
    "    print(\"Step 4: Concatenating results...\")\n",
    "    data = pd.concat(results).reset_index(drop=True)\n",
    "    \n",
    "    # Replace missing values with -1 where applicable\n",
    "    print(\"Step 5: Replacing missing values with -1...\")\n",
    "    data['fatalities_sum'] = data['fatalities_sum'].fillna(-1).astype(int)\n",
    "    \n",
    "    print(\"Processing complete.\")\n",
    "    return data\n",
    "\n",
    "# Function to classify crowd size\n",
    "def classify_crowd_size(tag):\n",
    "    if isinstance(tag, str) and re.search(r'\\d', tag):  # Check if there's a digit in the tag\n",
    "        # Extract the numeric value (handle commas)\n",
    "        value = re.search(r'\\d[\\d,]*', tag).group()  # Match numbers with optional commas\n",
    "        value = int(value.replace(',', ''))  # Remove commas and convert to integer\n",
    "        # Classify based on value\n",
    "        if value < 100:\n",
    "            return \"dozens\"\n",
    "        elif value < 1000:\n",
    "            return \"hundreds\"\n",
    "        else:\n",
    "            return \"large\"\n",
    "    elif isinstance(tag, str) and \"no report\" in tag:\n",
    "        return \"no report\"\n",
    "    return \"other tag\"\n",
    "\n",
    "# Apply the classification logic\n",
    "df[\"crowd_size\"] = df[\"tags\"].apply(classify_crowd_size)\n",
    "\n",
    "# Apply the function to the dataset with a 3-month timeframe as an example\n",
    "updated_data = add_fatalities_sum(df, timeframe_months=6)\n",
    "\n",
    "df = pd.get_dummies(updated_data, columns=[\"sub_event_type\", \"inter1\", \"region\"])\n",
    "\n",
    "# Create the 'no_info' column based on the conditions\n",
    "df[\"no_info\"] = df[\"tags\"].apply(lambda x: 1 if pd.isna(x) or x == \"crowd size=no report\" else 0)\n",
    "\n",
    "# List of values to create columns for\n",
    "keywords = [\n",
    "    \"counter-demonstration\",\n",
    "    \"armed\",\n",
    "    \"schools\",\n",
    "    \"local administrators\",\n",
    "    \"count every vote\",\n",
    "    \"armed presence\",\n",
    "    \"women targeted: girls\",\n",
    "    \"car ramming\",\n",
    "    \"sexual violence\",\n",
    "    \"women targeted: activists/human rights defenders/social leaders\",\n",
    "    \"women targeted: political party supporters\",\n",
    "    \"women targeted: candidates for office\",\n",
    "    \"women targeted: accused of witchcraft/sorcery\",\n",
    "    \"women targeted: government officials\",\n",
    "    \"women targeted: politicians\"\n",
    "]\n",
    "\n",
    "# Create a column for each keyword\n",
    "for keyword in keywords:\n",
    "    df[keyword] = df[\"tags\"].apply(lambda x: 1 if isinstance(x, str) and keyword in x else 0)"
   ]
  },
  {
   "cell_type": "code",
   "execution_count": 6,
   "metadata": {},
   "outputs": [
    {
     "data": {
      "text/plain": [
       "Index(['event_id_cnty', 'event_date', 'year', 'time_precision',\n",
       "       'disorder_type', 'event_type', 'actor1', 'assoc_actor_1', 'actor2',\n",
       "       'assoc_actor_2', 'inter2', 'interaction', 'civilian_targeting', 'iso',\n",
       "       'country', 'admin1', 'admin2', 'admin3', 'location', 'latitude',\n",
       "       'longitude', 'geo_precision', 'source', 'source_scale', 'notes',\n",
       "       'fatalities', 'tags', 'timestamp', 'crowd_size', 'shifted_fatalities',\n",
       "       'fatalities_sum', 'sub_event_type_Abduction/forced disappearance',\n",
       "       'sub_event_type_Agreement', 'sub_event_type_Air/drone strike',\n",
       "       'sub_event_type_Armed clash', 'sub_event_type_Arrests',\n",
       "       'sub_event_type_Attack', 'sub_event_type_Change to group/activity',\n",
       "       'sub_event_type_Chemical weapon',\n",
       "       'sub_event_type_Disrupted weapons use',\n",
       "       'sub_event_type_Excessive force against protesters',\n",
       "       'sub_event_type_Government regains territory', 'sub_event_type_Grenade',\n",
       "       'sub_event_type_Headquarters or base established',\n",
       "       'sub_event_type_Looting/property destruction',\n",
       "       'sub_event_type_Mob violence',\n",
       "       'sub_event_type_Non-state actor overtakes territory',\n",
       "       'sub_event_type_Non-violent transfer of territory',\n",
       "       'sub_event_type_Other', 'sub_event_type_Peaceful protest',\n",
       "       'sub_event_type_Protest with intervention',\n",
       "       'sub_event_type_Remote explosive/landmine/IED',\n",
       "       'sub_event_type_Sexual violence',\n",
       "       'sub_event_type_Shelling/artillery/missile attack',\n",
       "       'sub_event_type_Suicide bomb', 'sub_event_type_Violent demonstration',\n",
       "       'inter1_Civilians', 'inter1_External/Other forces',\n",
       "       'inter1_Identity militia', 'inter1_Political militia',\n",
       "       'inter1_Protesters', 'inter1_Rebel group', 'inter1_Rioters',\n",
       "       'inter1_State forces', 'region_Caribbean',\n",
       "       'region_Caucasus and Central Asia', 'region_Central America',\n",
       "       'region_East Asia', 'region_Eastern Africa', 'region_Europe',\n",
       "       'region_Middle Africa', 'region_Middle East', 'region_North America',\n",
       "       'region_Northern Africa', 'region_Oceania', 'region_South America',\n",
       "       'region_South Asia', 'region_Southeast Asia', 'region_Southern Africa',\n",
       "       'region_Western Africa', 'no_info', 'counter-demonstration', 'armed',\n",
       "       'schools', 'local administrators', 'count every vote', 'armed presence',\n",
       "       'women targeted: girls', 'car ramming', 'sexual violence',\n",
       "       'women targeted: activists/human rights defenders/social leaders',\n",
       "       'women targeted: political party supporters',\n",
       "       'women targeted: candidates for office',\n",
       "       'women targeted: accused of witchcraft/sorcery',\n",
       "       'women targeted: government officials', 'women targeted: politicians'],\n",
       "      dtype='object')"
      ]
     },
     "execution_count": 6,
     "metadata": {},
     "output_type": "execute_result"
    }
   ],
   "source": [
    "df.columns"
   ]
  },
  {
   "cell_type": "markdown",
   "metadata": {},
   "source": []
  }
 ],
 "metadata": {
  "kernelspec": {
   "display_name": "datathon",
   "language": "python",
   "name": "python3"
  },
  "language_info": {
   "codemirror_mode": {
    "name": "ipython",
    "version": 3
   },
   "file_extension": ".py",
   "mimetype": "text/x-python",
   "name": "python",
   "nbconvert_exporter": "python",
   "pygments_lexer": "ipython3",
   "version": "3.11.7"
  }
 },
 "nbformat": 4,
 "nbformat_minor": 2
}
